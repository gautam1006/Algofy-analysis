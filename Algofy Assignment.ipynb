{
 "cells": [
  {
   "cell_type": "markdown",
   "id": "73fa2432",
   "metadata": {},
   "source": [
    "Importing the dataset for the analysis\n"
   ]
  },
  {
   "cell_type": "code",
   "execution_count": 4,
   "id": "46694e3d",
   "metadata": {},
   "outputs": [],
   "source": [
    "import pandas as pd\n",
    "data=pd.read_excel(r\"C:\\Users\\lenovo\\Downloads\\sample_data.xls\")"
   ]
  },
  {
   "cell_type": "markdown",
   "id": "6247d6c8",
   "metadata": {},
   "source": [
    "Getting some basic information about the dataset\n",
    "`\n",
    "\n"
   ]
  },
  {
   "cell_type": "code",
   "execution_count": 8,
   "id": "a755b678",
   "metadata": {},
   "outputs": [
    {
     "data": {
      "text/html": [
       "<div>\n",
       "<style scoped>\n",
       "    .dataframe tbody tr th:only-of-type {\n",
       "        vertical-align: middle;\n",
       "    }\n",
       "\n",
       "    .dataframe tbody tr th {\n",
       "        vertical-align: top;\n",
       "    }\n",
       "\n",
       "    .dataframe thead th {\n",
       "        text-align: right;\n",
       "    }\n",
       "</style>\n",
       "<table border=\"1\" class=\"dataframe\">\n",
       "  <thead>\n",
       "    <tr style=\"text-align: right;\">\n",
       "      <th></th>\n",
       "      <th>Unnamed: 0</th>\n",
       "      <th>date</th>\n",
       "      <th>open</th>\n",
       "      <th>high</th>\n",
       "      <th>low</th>\n",
       "      <th>close</th>\n",
       "      <th>volume</th>\n",
       "    </tr>\n",
       "  </thead>\n",
       "  <tbody>\n",
       "    <tr>\n",
       "      <th>0</th>\n",
       "      <td>0</td>\n",
       "      <td>2022-01-03 09:15:00</td>\n",
       "      <td>252.70</td>\n",
       "      <td>254.25</td>\n",
       "      <td>252.35</td>\n",
       "      <td>252.60</td>\n",
       "      <td>319790</td>\n",
       "    </tr>\n",
       "    <tr>\n",
       "      <th>1</th>\n",
       "      <td>1</td>\n",
       "      <td>2022-01-03 09:30:00</td>\n",
       "      <td>252.60</td>\n",
       "      <td>253.65</td>\n",
       "      <td>251.75</td>\n",
       "      <td>252.80</td>\n",
       "      <td>220927</td>\n",
       "    </tr>\n",
       "    <tr>\n",
       "      <th>2</th>\n",
       "      <td>2</td>\n",
       "      <td>2022-01-03 09:45:00</td>\n",
       "      <td>252.95</td>\n",
       "      <td>254.90</td>\n",
       "      <td>252.30</td>\n",
       "      <td>252.85</td>\n",
       "      <td>526445</td>\n",
       "    </tr>\n",
       "    <tr>\n",
       "      <th>3</th>\n",
       "      <td>3</td>\n",
       "      <td>2022-01-03 10:00:00</td>\n",
       "      <td>252.85</td>\n",
       "      <td>253.15</td>\n",
       "      <td>252.40</td>\n",
       "      <td>252.55</td>\n",
       "      <td>280414</td>\n",
       "    </tr>\n",
       "    <tr>\n",
       "      <th>4</th>\n",
       "      <td>4</td>\n",
       "      <td>2022-01-03 10:15:00</td>\n",
       "      <td>252.55</td>\n",
       "      <td>253.10</td>\n",
       "      <td>252.25</td>\n",
       "      <td>252.80</td>\n",
       "      <td>112875</td>\n",
       "    </tr>\n",
       "  </tbody>\n",
       "</table>\n",
       "</div>"
      ],
      "text/plain": [
       "   Unnamed: 0                 date    open    high     low   close  volume\n",
       "0           0  2022-01-03 09:15:00  252.70  254.25  252.35  252.60  319790\n",
       "1           1  2022-01-03 09:30:00  252.60  253.65  251.75  252.80  220927\n",
       "2           2  2022-01-03 09:45:00  252.95  254.90  252.30  252.85  526445\n",
       "3           3  2022-01-03 10:00:00  252.85  253.15  252.40  252.55  280414\n",
       "4           4  2022-01-03 10:15:00  252.55  253.10  252.25  252.80  112875"
      ]
     },
     "execution_count": 8,
     "metadata": {},
     "output_type": "execute_result"
    }
   ],
   "source": [
    "data.head()"
   ]
  },
  {
   "cell_type": "code",
   "execution_count": 9,
   "id": "8f7843ad",
   "metadata": {},
   "outputs": [
    {
     "data": {
      "text/html": [
       "<div>\n",
       "<style scoped>\n",
       "    .dataframe tbody tr th:only-of-type {\n",
       "        vertical-align: middle;\n",
       "    }\n",
       "\n",
       "    .dataframe tbody tr th {\n",
       "        vertical-align: top;\n",
       "    }\n",
       "\n",
       "    .dataframe thead th {\n",
       "        text-align: right;\n",
       "    }\n",
       "</style>\n",
       "<table border=\"1\" class=\"dataframe\">\n",
       "  <thead>\n",
       "    <tr style=\"text-align: right;\">\n",
       "      <th></th>\n",
       "      <th>Unnamed: 0</th>\n",
       "      <th>date</th>\n",
       "      <th>open</th>\n",
       "      <th>high</th>\n",
       "      <th>low</th>\n",
       "      <th>close</th>\n",
       "      <th>volume</th>\n",
       "    </tr>\n",
       "  </thead>\n",
       "  <tbody>\n",
       "    <tr>\n",
       "      <th>1995</th>\n",
       "      <td>1995</td>\n",
       "      <td>2022-04-29 14:15:00</td>\n",
       "      <td>336.85</td>\n",
       "      <td>337.95</td>\n",
       "      <td>334.35</td>\n",
       "      <td>337.05</td>\n",
       "      <td>687194</td>\n",
       "    </tr>\n",
       "    <tr>\n",
       "      <th>1996</th>\n",
       "      <td>1996</td>\n",
       "      <td>2022-04-29 14:30:00</td>\n",
       "      <td>337.05</td>\n",
       "      <td>338.65</td>\n",
       "      <td>336.80</td>\n",
       "      <td>338.25</td>\n",
       "      <td>215018</td>\n",
       "    </tr>\n",
       "    <tr>\n",
       "      <th>1997</th>\n",
       "      <td>1997</td>\n",
       "      <td>2022-04-29 14:45:00</td>\n",
       "      <td>338.00</td>\n",
       "      <td>338.80</td>\n",
       "      <td>337.10</td>\n",
       "      <td>338.05</td>\n",
       "      <td>155628</td>\n",
       "    </tr>\n",
       "    <tr>\n",
       "      <th>1998</th>\n",
       "      <td>1998</td>\n",
       "      <td>2022-04-29 15:00:00</td>\n",
       "      <td>338.15</td>\n",
       "      <td>338.40</td>\n",
       "      <td>333.50</td>\n",
       "      <td>334.60</td>\n",
       "      <td>521086</td>\n",
       "    </tr>\n",
       "    <tr>\n",
       "      <th>1999</th>\n",
       "      <td>1999</td>\n",
       "      <td>2022-04-29 15:15:00</td>\n",
       "      <td>334.70</td>\n",
       "      <td>334.90</td>\n",
       "      <td>332.70</td>\n",
       "      <td>333.50</td>\n",
       "      <td>457038</td>\n",
       "    </tr>\n",
       "  </tbody>\n",
       "</table>\n",
       "</div>"
      ],
      "text/plain": [
       "      Unnamed: 0                 date    open    high     low   close  volume\n",
       "1995        1995  2022-04-29 14:15:00  336.85  337.95  334.35  337.05  687194\n",
       "1996        1996  2022-04-29 14:30:00  337.05  338.65  336.80  338.25  215018\n",
       "1997        1997  2022-04-29 14:45:00  338.00  338.80  337.10  338.05  155628\n",
       "1998        1998  2022-04-29 15:00:00  338.15  338.40  333.50  334.60  521086\n",
       "1999        1999  2022-04-29 15:15:00  334.70  334.90  332.70  333.50  457038"
      ]
     },
     "execution_count": 9,
     "metadata": {},
     "output_type": "execute_result"
    }
   ],
   "source": [
    "data.tail()"
   ]
  },
  {
   "cell_type": "markdown",
   "id": "edb75b50",
   "metadata": {},
   "source": [
    "This shows that the given dataset has 2000 entries of a company's stock value's trends from 3rd Jan 2022 to 29th march 2022\n"
   ]
  },
  {
   "cell_type": "markdown",
   "id": "41501590",
   "metadata": {},
   "source": [
    "**Lets see what all data type are there in the given dataset and if any null values or mistake/error are present or not**\n"
   ]
  },
  {
   "cell_type": "code",
   "execution_count": 12,
   "id": "9f00886d",
   "metadata": {},
   "outputs": [
    {
     "name": "stdout",
     "output_type": "stream",
     "text": [
      "<class 'pandas.core.frame.DataFrame'>\n",
      "RangeIndex: 2000 entries, 0 to 1999\n",
      "Data columns (total 7 columns):\n",
      " #   Column      Non-Null Count  Dtype  \n",
      "---  ------      --------------  -----  \n",
      " 0   Unnamed: 0  2000 non-null   int64  \n",
      " 1   date        2000 non-null   object \n",
      " 2   open        2000 non-null   float64\n",
      " 3   high        2000 non-null   float64\n",
      " 4   low         2000 non-null   float64\n",
      " 5   close       2000 non-null   float64\n",
      " 6   volume      2000 non-null   int64  \n",
      "dtypes: float64(4), int64(2), object(1)\n",
      "memory usage: 109.5+ KB\n"
     ]
    }
   ],
   "source": [
    "data.info()"
   ]
  },
  {
   "cell_type": "markdown",
   "id": "d6d01d1d",
   "metadata": {},
   "source": [
    "Given info shows that there are 3 main datatypes available in the given dataset.\n",
    "Date column has arrays \n",
    "open,high,low,and close columns has float type integers.\n",
    "and volume has integer data type.\n",
    "\n",
    "Which shows that there is no mistakes or errors present in the dataset as-\n",
    "date has to be in array format and volume always will be some whole number.\n",
    "\n"
   ]
  },
  {
   "cell_type": "markdown",
   "id": "4f9507e0",
   "metadata": {},
   "source": [
    "**Lets see is there any duplicate record is present in the dataset or not**\n"
   ]
  },
  {
   "cell_type": "code",
   "execution_count": 16,
   "id": "084aa586",
   "metadata": {},
   "outputs": [
    {
     "data": {
      "text/html": [
       "<div>\n",
       "<style scoped>\n",
       "    .dataframe tbody tr th:only-of-type {\n",
       "        vertical-align: middle;\n",
       "    }\n",
       "\n",
       "    .dataframe tbody tr th {\n",
       "        vertical-align: top;\n",
       "    }\n",
       "\n",
       "    .dataframe thead th {\n",
       "        text-align: right;\n",
       "    }\n",
       "</style>\n",
       "<table border=\"1\" class=\"dataframe\">\n",
       "  <thead>\n",
       "    <tr style=\"text-align: right;\">\n",
       "      <th></th>\n",
       "      <th>Unnamed: 0</th>\n",
       "      <th>date</th>\n",
       "      <th>open</th>\n",
       "      <th>high</th>\n",
       "      <th>low</th>\n",
       "      <th>close</th>\n",
       "      <th>volume</th>\n",
       "    </tr>\n",
       "  </thead>\n",
       "  <tbody>\n",
       "  </tbody>\n",
       "</table>\n",
       "</div>"
      ],
      "text/plain": [
       "Empty DataFrame\n",
       "Columns: [Unnamed: 0, date, open, high, low, close, volume]\n",
       "Index: []"
      ]
     },
     "execution_count": 16,
     "metadata": {},
     "output_type": "execute_result"
    }
   ],
   "source": [
    "data[data.duplicated()]"
   ]
  },
  {
   "cell_type": "markdown",
   "id": "70015699",
   "metadata": {},
   "source": [
    "The output shows that there's no duplicates present in the dataset\n",
    "which certainly means that all the stock values in each columns keeps varying throughout the table\n"
   ]
  },
  {
   "cell_type": "markdown",
   "id": "919c22e0",
   "metadata": {},
   "source": [
    "**Lets try to know some basic stats from the data**\n",
    "\n"
   ]
  },
  {
   "cell_type": "markdown",
   "id": "28f0ebee",
   "metadata": {},
   "source": [
    "**AVERAGE**\n",
    "\n"
   ]
  },
  {
   "cell_type": "code",
   "execution_count": 20,
   "id": "289e73c3",
   "metadata": {},
   "outputs": [],
   "source": [
    "import numpy as np"
   ]
  },
  {
   "cell_type": "code",
   "execution_count": 34,
   "id": "9bd18e35",
   "metadata": {},
   "outputs": [],
   "source": [
    "open_mean=data['open'].mean()\n",
    "high_mean=data['high'].mean()\n",
    "low_mean=data['low'].mean()\n",
    "close_mean=data['close'].mean()\n"
   ]
  },
  {
   "cell_type": "code",
   "execution_count": 35,
   "id": "06032d3d",
   "metadata": {},
   "outputs": [],
   "source": [
    "data_averages={'OPEN':[open_mean],'HIGH':[high_mean],\n",
    "               'LOW':[low_mean],'CLOSE':[close_mean]}"
   ]
  },
  {
   "cell_type": "code",
   "execution_count": 36,
   "id": "f76c707a",
   "metadata": {},
   "outputs": [],
   "source": [
    "df=pd.DataFrame(data_averages)"
   ]
  },
  {
   "cell_type": "code",
   "execution_count": 37,
   "id": "d667b1dd",
   "metadata": {},
   "outputs": [
    {
     "name": "stdout",
     "output_type": "stream",
     "text": [
      "        OPEN       HIGH         LOW     CLOSE\n",
      "0  304.07205  305.11275  303.062375  304.0875\n"
     ]
    }
   ],
   "source": [
    "print(df)"
   ]
  },
  {
   "cell_type": "markdown",
   "id": "75d7fede",
   "metadata": {},
   "source": [
    "**CONCLUSION**\n"
   ]
  },
  {
   "cell_type": "markdown",
   "id": "10ebd0eb",
   "metadata": {},
   "source": [
    "It can be easilly seen that during the span of 4 months on an average \n",
    "1. The opening value of stock was 304.07205.\n",
    "2. The highest value of the stock during the window of 9:30 am to 3:30 pm was 305.11275.\n",
    "3. The lowest value of the stock during the window of 9:30 am to 3:30 pm was 303.062375.\n",
    "4. The closing value can be seen as 304.0875.\n"
   ]
  },
  {
   "cell_type": "markdown",
   "id": "9220b7a9",
   "metadata": {},
   "source": [
    "**RANGE**\n"
   ]
  },
  {
   "cell_type": "code",
   "execution_count": 48,
   "id": "1a803af6",
   "metadata": {},
   "outputs": [
    {
     "name": "stdout",
     "output_type": "stream",
     "text": [
      "249.85 , 341.1\n"
     ]
    }
   ],
   "source": [
    "open_range_max=data['open'].max()\n",
    "open_range_min=data['open'].min()\n",
    "open_range=print(open_range_min,\",\",open_range_max)\n"
   ]
  },
  {
   "cell_type": "code",
   "execution_count": 49,
   "id": "bf326430",
   "metadata": {},
   "outputs": [
    {
     "name": "stdout",
     "output_type": "stream",
     "text": [
      "250.15 , 344.6\n"
     ]
    }
   ],
   "source": [
    "high_range_max=data['high'].max()\n",
    "high_range_min=data['high'].min()\n",
    "high_range=print(high_range_min,\",\",high_range_max)"
   ]
  },
  {
   "cell_type": "code",
   "execution_count": 50,
   "id": "a2dcaaa1",
   "metadata": {},
   "outputs": [
    {
     "name": "stdout",
     "output_type": "stream",
     "text": [
      "249.0 , 340.3\n"
     ]
    }
   ],
   "source": [
    "low_range_max=data['low'].max()\n",
    "low_range_min=data['low'].min()\n",
    "low_range=print(low_range_min,\",\",low_range_max)"
   ]
  },
  {
   "cell_type": "code",
   "execution_count": 54,
   "id": "59ba6985",
   "metadata": {},
   "outputs": [
    {
     "name": "stdout",
     "output_type": "stream",
     "text": [
      "249.8 , 341.05\n"
     ]
    }
   ],
   "source": [
    "close_range_max=data['close'].max()\n",
    "close_range_min=data['close'].min()\n",
    "close_range=print(close_range_min,\",\",close_range_max)"
   ]
  },
  {
   "cell_type": "markdown",
   "id": "a20b71a2",
   "metadata": {},
   "source": [
    "This show the range of the stock values for different columns.\n",
    "\n"
   ]
  },
  {
   "cell_type": "markdown",
   "id": "a21cb64d",
   "metadata": {},
   "source": [
    "**VARIANCE & STANDARD DEVIATION**\n"
   ]
  },
  {
   "cell_type": "code",
   "execution_count": 60,
   "id": "314c8a28",
   "metadata": {},
   "outputs": [
    {
     "name": "stdout",
     "output_type": "stream",
     "text": [
      "open     534.441339\n",
      "high     534.959275\n",
      "low      532.541887\n",
      "close    533.647247\n",
      "dtype: float64\n"
     ]
    }
   ],
   "source": [
    "variances = data[['open', 'high','low','close']].var()\n",
    "print(variances)"
   ]
  },
  {
   "cell_type": "code",
   "execution_count": 62,
   "id": "6d79036f",
   "metadata": {},
   "outputs": [
    {
     "name": "stdout",
     "output_type": "stream",
     "text": [
      "open     23.117987\n",
      "high     23.129187\n",
      "low      23.076869\n",
      "close    23.100806\n",
      "dtype: float64\n"
     ]
    }
   ],
   "source": [
    "standard_deviation = data[['open', 'high','low','close']].std()\n",
    "print(standard_deviation)"
   ]
  },
  {
   "cell_type": "markdown",
   "id": "016c0e0a",
   "metadata": {},
   "source": [
    "The above cells provide us with variations and standard deviation of different columns.\n"
   ]
  },
  {
   "cell_type": "markdown",
   "id": "842fdd87",
   "metadata": {},
   "source": [
    "**Let's find some insights / trends in the given data set**\n",
    "\n"
   ]
  },
  {
   "cell_type": "code",
   "execution_count": 88,
   "id": "2736b37f",
   "metadata": {},
   "outputs": [],
   "source": [
    "import matplotlib.pyplot as plt\n",
    "import datetime"
   ]
  },
  {
   "cell_type": "code",
   "execution_count": 76,
   "id": "2b8263a6",
   "metadata": {},
   "outputs": [],
   "source": [
    "start = datetime.datetime(2022,1,3)\n",
    "end = datetime.datetime(2022,4,29)"
   ]
  },
  {
   "cell_type": "code",
   "execution_count": 80,
   "id": "33874a6b",
   "metadata": {},
   "outputs": [
    {
     "data": {
      "image/png": "[encoded data removed]",
      "text/plain": [
       "<Figure size 1080x504 with 1 Axes>"
      ]
     },
     "metadata": {
      "needs_background": "light"
     },
     "output_type": "display_data"
    }
   ],
   "source": [
    "data['open'].plot(label='open price',figsize=(15,7))\n",
    "data['close'].plot(label='close price')\n",
    "data['high'].plot(label='high price')\n",
    "data['low'].plot(label='low price')\n",
    "plt.legend()\n",
    "plt.title('stock prices trend')\n",
    "plt.ylabel('stock price')\n",
    "plt.show()"
   ]
  },
  {
   "cell_type": "markdown",
   "id": "b1c59e4a",
   "metadata": {},
   "source": [
    "*As we know that in the given dataset there are 500 records  each therefore for 4 months we have 2000 records.(Known from the above derived statistics)*\n",
    "\n",
    "*-For january we have records/rows from 0-499*\n",
    "\n",
    "*-For february we have records/rows from 500-999*\n",
    "\n",
    "*-For march we have records/rows from 1000-1499*\n",
    "\n",
    "*-For april we have records/rows from 1500-2000*\n"
   ]
  },
  {
   "cell_type": "markdown",
   "id": "6eac7863",
   "metadata": {},
   "source": [
    "Here we can see a trend(increase) in the last 2 months i.e march and april,\n",
    "hence we could say its a good time period to invest.\n"
   ]
  },
  {
   "cell_type": "markdown",
   "id": "96f30d10",
   "metadata": {},
   "source": [
    "**Volume traded**\n"
   ]
  },
  {
   "cell_type": "code",
   "execution_count": 86,
   "id": "9c41b327",
   "metadata": {},
   "outputs": [
    {
     "data": {
      "text/plain": [
       "Text(0.5, 1.0, 'volume traded')"
      ]
     },
     "execution_count": 86,
     "metadata": {},
     "output_type": "execute_result"
    },
    {
     "data": {
      "image/png": "[encoded data removed]",
      "text/plain": [
       "<Figure size 1224x360 with 1 Axes>"
      ]
     },
     "metadata": {
      "needs_background": "light"
     },
     "output_type": "display_data"
    }
   ],
   "source": [
    "data['volume'].plot(figsize=(17,5))\n",
    "plt.title('volume traded')"
   ]
  },
  {
   "cell_type": "markdown",
   "id": "e78a521c",
   "metadata": {},
   "source": [
    "Here we can see 2 major spikes in volume of the stock traded in the month of march and april.\n"
   ]
  },
  {
   "cell_type": "markdown",
   "id": "69d18ebb",
   "metadata": {},
   "source": [
    "**From here we can conclude that there we more stocks traded in the month of march and april as there are more spikes as compared to the jan and feb.**\n"
   ]
  },
  {
   "cell_type": "markdown",
   "id": "3e6ab5d9",
   "metadata": {},
   "source": [
    "Assume that I have a capital of 1 lakh to start with. I use whatever capital I have each morning to buy the stock at 9:30am and sell it at 3pm everyday. \n",
    "\n",
    "Answer the following questions:\n",
    "  \n",
    "  a. Profit/loss on each day?\n",
    "  \n",
    "  b. Max profit?\n",
    "  \n",
    "  c. Max loss?\n",
    "  \n",
    "  d. Total capital in the end?\n",
    "    "
   ]
  },
  {
   "cell_type": "markdown",
   "id": "ce71c5f8",
   "metadata": {},
   "source": [
    "**profit/loss on each day?**\n"
   ]
  },
  {
   "cell_type": "code",
   "execution_count": 90,
   "id": "04d3d9e9",
   "metadata": {},
   "outputs": [],
   "source": [
    "data['returns'] = (data['close']/data['close'].shift(1))"
   ]
  },
  {
   "cell_type": "code",
   "execution_count": 92,
   "id": "2933f68d",
   "metadata": {},
   "outputs": [
    {
     "data": {
      "text/html": [
       "<div>\n",
       "<style scoped>\n",
       "    .dataframe tbody tr th:only-of-type {\n",
       "        vertical-align: middle;\n",
       "    }\n",
       "\n",
       "    .dataframe tbody tr th {\n",
       "        vertical-align: top;\n",
       "    }\n",
       "\n",
       "    .dataframe thead th {\n",
       "        text-align: right;\n",
       "    }\n",
       "</style>\n",
       "<table border=\"1\" class=\"dataframe\">\n",
       "  <thead>\n",
       "    <tr style=\"text-align: right;\">\n",
       "      <th></th>\n",
       "      <th>Unnamed: 0</th>\n",
       "      <th>date</th>\n",
       "      <th>open</th>\n",
       "      <th>high</th>\n",
       "      <th>low</th>\n",
       "      <th>close</th>\n",
       "      <th>volume</th>\n",
       "      <th>returns</th>\n",
       "    </tr>\n",
       "  </thead>\n",
       "  <tbody>\n",
       "    <tr>\n",
       "      <th>0</th>\n",
       "      <td>0</td>\n",
       "      <td>2022-01-03 09:15:00</td>\n",
       "      <td>252.70</td>\n",
       "      <td>254.25</td>\n",
       "      <td>252.35</td>\n",
       "      <td>252.60</td>\n",
       "      <td>319790</td>\n",
       "      <td>NaN</td>\n",
       "    </tr>\n",
       "    <tr>\n",
       "      <th>1</th>\n",
       "      <td>1</td>\n",
       "      <td>2022-01-03 09:30:00</td>\n",
       "      <td>252.60</td>\n",
       "      <td>253.65</td>\n",
       "      <td>251.75</td>\n",
       "      <td>252.80</td>\n",
       "      <td>220927</td>\n",
       "      <td>1.000792</td>\n",
       "    </tr>\n",
       "    <tr>\n",
       "      <th>2</th>\n",
       "      <td>2</td>\n",
       "      <td>2022-01-03 09:45:00</td>\n",
       "      <td>252.95</td>\n",
       "      <td>254.90</td>\n",
       "      <td>252.30</td>\n",
       "      <td>252.85</td>\n",
       "      <td>526445</td>\n",
       "      <td>1.000198</td>\n",
       "    </tr>\n",
       "    <tr>\n",
       "      <th>3</th>\n",
       "      <td>3</td>\n",
       "      <td>2022-01-03 10:00:00</td>\n",
       "      <td>252.85</td>\n",
       "      <td>253.15</td>\n",
       "      <td>252.40</td>\n",
       "      <td>252.55</td>\n",
       "      <td>280414</td>\n",
       "      <td>0.998814</td>\n",
       "    </tr>\n",
       "    <tr>\n",
       "      <th>4</th>\n",
       "      <td>4</td>\n",
       "      <td>2022-01-03 10:15:00</td>\n",
       "      <td>252.55</td>\n",
       "      <td>253.10</td>\n",
       "      <td>252.25</td>\n",
       "      <td>252.80</td>\n",
       "      <td>112875</td>\n",
       "      <td>1.000990</td>\n",
       "    </tr>\n",
       "    <tr>\n",
       "      <th>...</th>\n",
       "      <td>...</td>\n",
       "      <td>...</td>\n",
       "      <td>...</td>\n",
       "      <td>...</td>\n",
       "      <td>...</td>\n",
       "      <td>...</td>\n",
       "      <td>...</td>\n",
       "      <td>...</td>\n",
       "    </tr>\n",
       "    <tr>\n",
       "      <th>95</th>\n",
       "      <td>95</td>\n",
       "      <td>2022-01-06 14:15:00</td>\n",
       "      <td>259.85</td>\n",
       "      <td>262.40</td>\n",
       "      <td>259.65</td>\n",
       "      <td>262.30</td>\n",
       "      <td>713064</td>\n",
       "      <td>1.009429</td>\n",
       "    </tr>\n",
       "    <tr>\n",
       "      <th>96</th>\n",
       "      <td>96</td>\n",
       "      <td>2022-01-06 14:30:00</td>\n",
       "      <td>262.30</td>\n",
       "      <td>262.80</td>\n",
       "      <td>261.05</td>\n",
       "      <td>262.55</td>\n",
       "      <td>424406</td>\n",
       "      <td>1.000953</td>\n",
       "    </tr>\n",
       "    <tr>\n",
       "      <th>97</th>\n",
       "      <td>97</td>\n",
       "      <td>2022-01-06 14:45:00</td>\n",
       "      <td>262.55</td>\n",
       "      <td>264.90</td>\n",
       "      <td>261.30</td>\n",
       "      <td>264.30</td>\n",
       "      <td>735625</td>\n",
       "      <td>1.006665</td>\n",
       "    </tr>\n",
       "    <tr>\n",
       "      <th>98</th>\n",
       "      <td>98</td>\n",
       "      <td>2022-01-06 15:00:00</td>\n",
       "      <td>264.30</td>\n",
       "      <td>264.55</td>\n",
       "      <td>262.70</td>\n",
       "      <td>264.20</td>\n",
       "      <td>571540</td>\n",
       "      <td>0.999622</td>\n",
       "    </tr>\n",
       "    <tr>\n",
       "      <th>99</th>\n",
       "      <td>99</td>\n",
       "      <td>2022-01-06 15:15:00</td>\n",
       "      <td>264.25</td>\n",
       "      <td>266.40</td>\n",
       "      <td>263.65</td>\n",
       "      <td>263.95</td>\n",
       "      <td>989818</td>\n",
       "      <td>0.999054</td>\n",
       "    </tr>\n",
       "  </tbody>\n",
       "</table>\n",
       "<p>100 rows × 8 columns</p>\n",
       "</div>"
      ],
      "text/plain": [
       "    Unnamed: 0                 date    open    high     low   close  volume  \\\n",
       "0            0  2022-01-03 09:15:00  252.70  254.25  252.35  252.60  319790   \n",
       "1            1  2022-01-03 09:30:00  252.60  253.65  251.75  252.80  220927   \n",
       "2            2  2022-01-03 09:45:00  252.95  254.90  252.30  252.85  526445   \n",
       "3            3  2022-01-03 10:00:00  252.85  253.15  252.40  252.55  280414   \n",
       "4            4  2022-01-03 10:15:00  252.55  253.10  252.25  252.80  112875   \n",
       "..         ...                  ...     ...     ...     ...     ...     ...   \n",
       "95          95  2022-01-06 14:15:00  259.85  262.40  259.65  262.30  713064   \n",
       "96          96  2022-01-06 14:30:00  262.30  262.80  261.05  262.55  424406   \n",
       "97          97  2022-01-06 14:45:00  262.55  264.90  261.30  264.30  735625   \n",
       "98          98  2022-01-06 15:00:00  264.30  264.55  262.70  264.20  571540   \n",
       "99          99  2022-01-06 15:15:00  264.25  266.40  263.65  263.95  989818   \n",
       "\n",
       "     returns  \n",
       "0        NaN  \n",
       "1   1.000792  \n",
       "2   1.000198  \n",
       "3   0.998814  \n",
       "4   1.000990  \n",
       "..       ...  \n",
       "95  1.009429  \n",
       "96  1.000953  \n",
       "97  1.006665  \n",
       "98  0.999622  \n",
       "99  0.999054  \n",
       "\n",
       "[100 rows x 8 columns]"
      ]
     },
     "execution_count": 92,
     "metadata": {},
     "output_type": "execute_result"
    }
   ],
   "source": [
    "data.head(100)"
   ]
  },
  {
   "cell_type": "code",
   "execution_count": 94,
   "id": "4b35578a",
   "metadata": {},
   "outputs": [],
   "source": [
    "data_neg=data['returns']<0"
   ]
  },
  {
   "cell_type": "code",
   "execution_count": 95,
   "id": "de96759c",
   "metadata": {},
   "outputs": [
    {
     "data": {
      "text/plain": [
       "0       False\n",
       "1       False\n",
       "2       False\n",
       "3       False\n",
       "4       False\n",
       "        ...  \n",
       "1995    False\n",
       "1996    False\n",
       "1997    False\n",
       "1998    False\n",
       "1999    False\n",
       "Name: returns, Length: 2000, dtype: bool"
      ]
     },
     "execution_count": 95,
     "metadata": {},
     "output_type": "execute_result"
    }
   ],
   "source": [
    "data_neg"
   ]
  },
  {
   "cell_type": "markdown",
   "id": "eb2a24d3",
   "metadata": {},
   "source": [
    "Here we can see the returns(profit/losses) in the table.\n"
   ]
  },
  {
   "cell_type": "markdown",
   "id": "4931d772",
   "metadata": {},
   "source": [
    "**Max profits?**\n",
    "\n"
   ]
  },
  {
   "cell_type": "code",
   "execution_count": 101,
   "id": "071cf46e",
   "metadata": {},
   "outputs": [
    {
     "data": {
      "text/plain": [
       "1.0637860082304527"
      ]
     },
     "execution_count": 101,
     "metadata": {},
     "output_type": "execute_result"
    }
   ],
   "source": [
    "data['returns'].max()"
   ]
  },
  {
   "cell_type": "markdown",
   "id": "5454c9fd",
   "metadata": {},
   "source": [
    "Here we have the max profit in a day\n"
   ]
  },
  {
   "cell_type": "code",
   "execution_count": 102,
   "id": "7737d692",
   "metadata": {},
   "outputs": [
    {
     "data": {
      "text/plain": [
       "0.9528795811518326"
      ]
     },
     "execution_count": 102,
     "metadata": {},
     "output_type": "execute_result"
    }
   ],
   "source": [
    "data['returns'].min()"
   ]
  },
  {
   "cell_type": "markdown",
   "id": "cfbf82c6",
   "metadata": {},
   "source": [
    "Here we have the max loss made in a day\n"
   ]
  },
  {
   "cell_type": "code",
   "execution_count": 105,
   "id": "e520e452",
   "metadata": {},
   "outputs": [],
   "source": [
    "data['Cumulative Return']=(1+ data['returns']).cumprod()"
   ]
  },
  {
   "cell_type": "code",
   "execution_count": 108,
   "id": "16feb38e",
   "metadata": {},
   "outputs": [
    {
     "data": {
      "text/html": [
       "<div>\n",
       "<style scoped>\n",
       "    .dataframe tbody tr th:only-of-type {\n",
       "        vertical-align: middle;\n",
       "    }\n",
       "\n",
       "    .dataframe tbody tr th {\n",
       "        vertical-align: top;\n",
       "    }\n",
       "\n",
       "    .dataframe thead th {\n",
       "        text-align: right;\n",
       "    }\n",
       "</style>\n",
       "<table border=\"1\" class=\"dataframe\">\n",
       "  <thead>\n",
       "    <tr style=\"text-align: right;\">\n",
       "      <th></th>\n",
       "      <th>Unnamed: 0</th>\n",
       "      <th>date</th>\n",
       "      <th>open</th>\n",
       "      <th>high</th>\n",
       "      <th>low</th>\n",
       "      <th>close</th>\n",
       "      <th>volume</th>\n",
       "      <th>returns</th>\n",
       "      <th>Cumulative Return</th>\n",
       "    </tr>\n",
       "  </thead>\n",
       "  <tbody>\n",
       "    <tr>\n",
       "      <th>0</th>\n",
       "      <td>0</td>\n",
       "      <td>2022-01-03 09:15:00</td>\n",
       "      <td>252.70</td>\n",
       "      <td>254.25</td>\n",
       "      <td>252.35</td>\n",
       "      <td>252.60</td>\n",
       "      <td>319790</td>\n",
       "      <td>NaN</td>\n",
       "      <td>NaN</td>\n",
       "    </tr>\n",
       "    <tr>\n",
       "      <th>1</th>\n",
       "      <td>1</td>\n",
       "      <td>2022-01-03 09:30:00</td>\n",
       "      <td>252.60</td>\n",
       "      <td>253.65</td>\n",
       "      <td>251.75</td>\n",
       "      <td>252.80</td>\n",
       "      <td>220927</td>\n",
       "      <td>1.000792</td>\n",
       "      <td>2.000792</td>\n",
       "    </tr>\n",
       "    <tr>\n",
       "      <th>2</th>\n",
       "      <td>2</td>\n",
       "      <td>2022-01-03 09:45:00</td>\n",
       "      <td>252.95</td>\n",
       "      <td>254.90</td>\n",
       "      <td>252.30</td>\n",
       "      <td>252.85</td>\n",
       "      <td>526445</td>\n",
       "      <td>1.000198</td>\n",
       "      <td>4.001979</td>\n",
       "    </tr>\n",
       "    <tr>\n",
       "      <th>3</th>\n",
       "      <td>3</td>\n",
       "      <td>2022-01-03 10:00:00</td>\n",
       "      <td>252.85</td>\n",
       "      <td>253.15</td>\n",
       "      <td>252.40</td>\n",
       "      <td>252.55</td>\n",
       "      <td>280414</td>\n",
       "      <td>0.998814</td>\n",
       "      <td>7.999210</td>\n",
       "    </tr>\n",
       "    <tr>\n",
       "      <th>4</th>\n",
       "      <td>4</td>\n",
       "      <td>2022-01-03 10:15:00</td>\n",
       "      <td>252.55</td>\n",
       "      <td>253.10</td>\n",
       "      <td>252.25</td>\n",
       "      <td>252.80</td>\n",
       "      <td>112875</td>\n",
       "      <td>1.000990</td>\n",
       "      <td>16.006339</td>\n",
       "    </tr>\n",
       "  </tbody>\n",
       "</table>\n",
       "</div>"
      ],
      "text/plain": [
       "   Unnamed: 0                 date    open    high     low   close  volume  \\\n",
       "0           0  2022-01-03 09:15:00  252.70  254.25  252.35  252.60  319790   \n",
       "1           1  2022-01-03 09:30:00  252.60  253.65  251.75  252.80  220927   \n",
       "2           2  2022-01-03 09:45:00  252.95  254.90  252.30  252.85  526445   \n",
       "3           3  2022-01-03 10:00:00  252.85  253.15  252.40  252.55  280414   \n",
       "4           4  2022-01-03 10:15:00  252.55  253.10  252.25  252.80  112875   \n",
       "\n",
       "    returns  Cumulative Return  \n",
       "0       NaN                NaN  \n",
       "1  1.000792           2.000792  \n",
       "2  1.000198           4.001979  \n",
       "3  0.998814           7.999210  \n",
       "4  1.000990          16.006339  "
      ]
     },
     "execution_count": 108,
     "metadata": {},
     "output_type": "execute_result"
    }
   ],
   "source": [
    "data.head()"
   ]
  },
  {
   "cell_type": "markdown",
   "id": "c2a2cefa",
   "metadata": {},
   "source": [
    "The table provides with the compounded return of each day.\n"
   ]
  },
  {
   "cell_type": "code",
   "execution_count": null,
   "id": "343a542f",
   "metadata": {},
   "outputs": [],
   "source": []
  }
 ],
 "metadata": {
  "kernelspec": {
   "display_name": "Python 3 (ipykernel)",
   "language": "python",
   "name": "python3"
  },
  "language_info": {
   "codemirror_mode": {
    "name": "ipython",
    "version": 3
   },
   "file_extension": ".py",
   "mimetype": "text/x-python",
   "name": "python",
   "nbconvert_exporter": "python",
   "pygments_lexer": "ipython3",
   "version": "3.9.7"
  }
 },
 "nbformat": 4,
 "nbformat_minor": 5
}
